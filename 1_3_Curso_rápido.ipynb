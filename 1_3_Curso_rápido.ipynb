{
  "nbformat": 4,
  "nbformat_minor": 0,
  "metadata": {
    "colab": {
      "provenance": [],
      "authorship_tag": "ABX9TyPW3BoMeZIxDWc8brQVoHcd",
      "include_colab_link": true
    },
    "kernelspec": {
      "name": "python3",
      "display_name": "Python 3"
    },
    "language_info": {
      "name": "python"
    }
  },
  "cells": [
    {
      "cell_type": "markdown",
      "metadata": {
        "id": "view-in-github",
        "colab_type": "text"
      },
      "source": [
        "<a href=\"https://colab.research.google.com/github/LuisPerdomo123/NLP-Procesamiento-de-Lenguaje-Natural/blob/main/1_3_Curso_r%C3%A1pido.ipynb\" target=\"_parent\"><img src=\"https://colab.research.google.com/assets/colab-badge.svg\" alt=\"Open In Colab\"/></a>"
      ]
    },
    {
      "cell_type": "markdown",
      "source": [
        "# Módulo 1. Introducción\n",
        "\n",
        "## 3. Curso rápido de Python"
      ],
      "metadata": {
        "id": "qL_X2Q74yZeD"
      }
    },
    {
      "cell_type": "markdown",
      "source": [
        "### Índice\n",
        "\n",
        "\n",
        "\n",
        "*   Introducción\n",
        "*   Sintaxis en python\n",
        "  * Asignación\n",
        "  * Control de flujo\n",
        "  * Estructuras de datos\n",
        "*   Curso de Numpy\n",
        "*   Curso de Matplotlib\n",
        "*   Curso de Pandas\n",
        "\n"
      ],
      "metadata": {
        "id": "CcbLvURsygVB"
      }
    },
    {
      "cell_type": "code",
      "execution_count": 2,
      "metadata": {
        "colab": {
          "base_uri": "https://localhost:8080/",
          "height": 17
        },
        "id": "ThcOGZkDyU0F",
        "outputId": "cc104941-86ac-4382-b581-8f6d70c22435"
      },
      "outputs": [
        {
          "output_type": "display_data",
          "data": {
            "text/plain": [
              "<IPython.core.display.HTML object>"
            ],
            "text/html": [
              "<style>.container{width: 98 %}</style>"
            ]
          },
          "metadata": {}
        }
      ],
      "source": [
        "from IPython.core.display import display, HTML\n",
        "display(HTML(\"<style>.container{width: 98 %}</style>\"))"
      ]
    },
    {
      "cell_type": "markdown",
      "source": [
        "## 1. Introducción\n",
        "\n",
        "No necesita ser un desarrollador de Python para comenzar a usar el ecosistema de Python para el aprendizaje automático. Como desarrollador que ya sabe cómo programar en uno o más lenguajes de programación, puede aprender un nuevo lenguaje como Python muy rápidamente. Solo necesita conocer algunas propiedades del idioma para transferir lo que ya sabe al nuevo lenguaje."
      ],
      "metadata": {
        "id": "QSXWV9QHzdrb"
      }
    },
    {
      "cell_type": "markdown",
      "source": [
        "## 2. Sintaxis en Python\n",
        "\n",
        "Al comenzar en Python, necesita conocer algunos detalles clave sobre la sintaxis del lenguaje para poder leer y comprender el código de Python."
      ],
      "metadata": {
        "id": "umYgpFKJz-xo"
      }
    },
    {
      "cell_type": "markdown",
      "source": [
        "### 2.1. Asignación\n",
        "\n",
        "Como programador, la asignación y los tipos no deberían sorprenderle."
      ],
      "metadata": {
        "id": "h8xH5IoZ0ZtU"
      }
    },
    {
      "cell_type": "markdown",
      "source": [
        "**Strings**"
      ],
      "metadata": {
        "id": "xW7BwhC60tPq"
      }
    },
    {
      "cell_type": "code",
      "source": [
        "# Guardar en un variable un String e imprimir el caracter en la posición 0, longitud y el String completo\n",
        "data = 'Hello world'\n",
        "print(data[0])\n",
        "print(len(data))\n",
        "print(data)"
      ],
      "metadata": {
        "colab": {
          "base_uri": "https://localhost:8080/"
        },
        "id": "oYoPNsl-zYHh",
        "outputId": "256c82f7-7fa8-446d-8943-0bb5816af889"
      },
      "execution_count": 3,
      "outputs": [
        {
          "output_type": "stream",
          "name": "stdout",
          "text": [
            "H\n",
            "11\n",
            "Hello world\n"
          ]
        }
      ]
    },
    {
      "cell_type": "markdown",
      "source": [
        "**Números**"
      ],
      "metadata": {
        "id": "YRGkBDE41wKO"
      }
    },
    {
      "cell_type": "code",
      "source": [
        "# Guardar un número, imprimirlo, cambiarle el valor e imprimirlo nuevamente\n",
        "value1 = 123.1\n",
        "value2 = 10\n",
        "\n",
        "print(value1)\n",
        "print(value2)"
      ],
      "metadata": {
        "colab": {
          "base_uri": "https://localhost:8080/"
        },
        "id": "92EjNmv71L1Q",
        "outputId": "3a430f49-e396-46c6-b79f-870a6c57a004"
      },
      "execution_count": 4,
      "outputs": [
        {
          "output_type": "stream",
          "name": "stdout",
          "text": [
            "123.1\n",
            "10\n"
          ]
        }
      ]
    },
    {
      "cell_type": "markdown",
      "source": [
        "**Booleanos**"
      ],
      "metadata": {
        "id": "yc17xpOP2IxN"
      }
    },
    {
      "cell_type": "code",
      "source": [
        "# Guardar los dos valores booleanos en dos variables diferentes e imprimirlos\n",
        "a =True\n",
        "b = False\n",
        "\n",
        "print(b,a)"
      ],
      "metadata": {
        "colab": {
          "base_uri": "https://localhost:8080/"
        },
        "id": "z0wcNpxp2GPw",
        "outputId": "0fa4aee1-f183-4897-8846-56ccaf6c8651"
      },
      "execution_count": 5,
      "outputs": [
        {
          "output_type": "stream",
          "name": "stdout",
          "text": [
            "False True\n"
          ]
        }
      ]
    },
    {
      "cell_type": "markdown",
      "source": [
        "**Asignación Múltiple**"
      ],
      "metadata": {
        "id": "alxUiVy42jPV"
      }
    },
    {
      "cell_type": "code",
      "source": [
        "# Asignar 3 números a 3 variables e imprimir\n",
        "a, b, c = 1, 2, 3\n",
        "print(c, b, a)"
      ],
      "metadata": {
        "colab": {
          "base_uri": "https://localhost:8080/"
        },
        "id": "a7auANK82Zzu",
        "outputId": "11fb6a1c-01d8-4fad-e74f-e5ea91713ef0"
      },
      "execution_count": 6,
      "outputs": [
        {
          "output_type": "stream",
          "name": "stdout",
          "text": [
            "3 2 1\n"
          ]
        }
      ]
    },
    {
      "cell_type": "markdown",
      "source": [
        "**Valor None**"
      ],
      "metadata": {
        "id": "tGYwXSY827fP"
      }
    },
    {
      "cell_type": "code",
      "source": [],
      "metadata": {
        "id": "pphTy-Ex215x"
      },
      "execution_count": null,
      "outputs": []
    }
  ]
}